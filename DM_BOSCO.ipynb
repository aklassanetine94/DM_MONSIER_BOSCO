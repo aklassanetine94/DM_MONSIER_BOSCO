{
 "cells": [
  {
   "cell_type": "code",
   "execution_count": 1,
   "metadata": {},
   "outputs": [],
   "source": [
    "import pandas as pd\n",
    "import seaborn as sns \n",
    "import xlrd\n",
    "#df = pd.read_csv(r\"C:\\Users\\Etudiant\\Downloads\\hmeq.csv\")\n",
    "#dff=pd.read_csv(r\"C:\\Users\\Etudiant\\Downloads\\table_training.csv\", sep=';',)\n",
    "mabase=pd.read_excel(r\"C:\\Users\\Etudiant\\Downloads\\DM_bon.xlsx\")"
   ]
  },
  {
   "cell_type": "code",
   "execution_count": null,
   "metadata": {},
   "outputs": [],
   "source": [
    "df=mabese"
   ]
  }
 ],
 "metadata": {
  "kernelspec": {
   "display_name": "Python 3",
   "language": "python",
   "name": "python3"
  },
  "language_info": {
   "codemirror_mode": {
    "name": "ipython",
    "version": 3
   },
   "file_extension": ".py",
   "mimetype": "text/x-python",
   "name": "python",
   "nbconvert_exporter": "python",
   "pygments_lexer": "ipython3",
   "version": "3.8.5"
  }
 },
 "nbformat": 4,
 "nbformat_minor": 4
}
